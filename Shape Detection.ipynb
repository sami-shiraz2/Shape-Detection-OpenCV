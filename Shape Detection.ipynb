{
 "cells": [
  {
   "cell_type": "code",
   "execution_count": 1,
   "metadata": {},
   "outputs": [],
   "source": [
    "import cv2\n",
    "import numpy as np"
   ]
  },
  {
   "cell_type": "code",
   "execution_count": 4,
   "metadata": {},
   "outputs": [],
   "source": [
    "def stackImages(scale,imgArray):\n",
    "    rows = len(imgArray)\n",
    "    cols = len(imgArray[0])\n",
    "    rowsAvailable = isinstance(imgArray[0], list)\n",
    "    width = imgArray[0][0].shape[1]\n",
    "    height = imgArray[0][0].shape[0]\n",
    "    if rowsAvailable:\n",
    "        for x in range ( 0, rows):\n",
    "            for y in range(0, cols):\n",
    "                if imgArray[x][y].shape[:2] == imgArray[0][0].shape [:2]:\n",
    "                    imgArray[x][y] = cv2.resize(imgArray[x][y], (0, 0), None, scale, scale)\n",
    "                else:\n",
    "                    imgArray[x][y] = cv2.resize(imgArray[x][y], (imgArray[0][0].shape[1], imgArray[0][0].shape[0]), None, scale, scale)\n",
    "                if len(imgArray[x][y].shape) == 2: imgArray[x][y]= cv2.cvtColor( imgArray[x][y], cv2.COLOR_GRAY2BGR)\n",
    "        imageBlank = np.zeros((height, width, 3), np.uint8)\n",
    "        hor = [imageBlank]*rows\n",
    "        hor_con = [imageBlank]*rows\n",
    "        for x in range(0, rows):\n",
    "            hor[x] = np.hstack(imgArray[x])\n",
    "        ver = np.vstack(hor)\n",
    "    else:\n",
    "        for x in range(0, rows):\n",
    "            if imgArray[x].shape[:2] == imgArray[0].shape[:2]:\n",
    "                imgArray[x] = cv2.resize(imgArray[x], (0, 0), None, scale, scale)\n",
    "            else:\n",
    "                imgArray[x] = cv2.resize(imgArray[x], (imgArray[0].shape[1], imgArray[0].shape[0]), None,scale, scale)\n",
    "            if len(imgArray[x].shape) == 2: imgArray[x] = cv2.cvtColor(imgArray[x], cv2.COLOR_GRAY2BGR)\n",
    "        hor= np.hstack(imgArray)\n",
    "        ver = hor\n",
    "    return ver"
   ]
  },
  {
   "cell_type": "markdown",
   "metadata": {},
   "source": [
    "# Shape Detection "
   ]
  },
  {
   "cell_type": "code",
   "execution_count": 39,
   "metadata": {},
   "outputs": [
    {
     "name": "stdout",
     "output_type": "stream",
     "text": [
      "3593.5\n",
      "8\n",
      "8619.0\n",
      "4\n",
      "10398.5\n",
      "4\n",
      "10236.0\n",
      "8\n",
      "1612.5\n",
      "3\n",
      "10402.0\n",
      "4\n",
      "6389.0\n",
      "4\n",
      "5629.0\n",
      "3\n",
      "3475.5\n",
      "4\n",
      "2270.5\n",
      "4\n",
      "3552.5\n",
      "8\n",
      "8674.0\n",
      "4\n",
      "2646.0\n",
      "4\n",
      "5690.5\n",
      "3\n",
      "10234.0\n",
      "8\n",
      "5712.0\n",
      "3\n"
     ]
    },
    {
     "data": {
      "text/plain": [
       "-1"
      ]
     },
     "execution_count": 39,
     "metadata": {},
     "output_type": "execute_result"
    }
   ],
   "source": [
    "img = cv2.imread('shapes.png')\n",
    "img_contours = img.copy()\n",
    "img_g = cv2.cvtColor(img, cv2.COLOR_BGR2GRAY)\n",
    "img_bl = cv2.GaussianBlur(img_g, (7, 7), 1)\n",
    "img_c = cv2.Canny(img_bl, 50, 50)\n",
    "\n",
    "img_b = np.zeros_like(img)\n",
    "\n",
    "def getContours(img):\n",
    "    contours, hirarchy = cv2.findContours(img, cv2.RETR_EXTERNAL, cv2.CHAIN_APPROX_NONE)\n",
    "    for cnt in contours:\n",
    "        area = cv2.contourArea(cnt)\n",
    "        print(area)\n",
    "        if area > 500:\n",
    "            cv2.drawContours(img_contours, cnt, -1, (255, 0, 0),3)\n",
    "            pari = cv2.arcLength(cnt, True)\n",
    "            #print(pari)\n",
    "            approx = cv2.approxPolyDP(cnt, 0.02*pari, True)\n",
    "            print(len(approx))\n",
    "            objCor = len(approx)\n",
    "            \n",
    "            x, y, w, h = cv2.boundingRect(approx)\n",
    "            \n",
    "            cv2.rectangle(img_contours, (x, y), (x+w, y+h), (0, 255, 0), 2)\n",
    "            \n",
    "            if objCor == 3: objectType=\"Triangle\"\n",
    "            elif objCor == 4:\n",
    "                absRatio = w/float(h)\n",
    "                if absRatio >0.95 and absRatio <1.05: objectType=\"Square\"\n",
    "                else: objectType=\"Rectangle\"\n",
    "            elif objCor > 4: objectType=\"Circle\"\n",
    "            else: objectType=\"None\"\n",
    "                \n",
    "            cv2.putText(img_contours, objectType, (x+(w//2)-10, y+(h//2)-10), cv2.FONT_HERSHEY_COMPLEX, 0.7, (0,0,0), 2)\n",
    "\n",
    "getContours(img_c)\n",
    "\n",
    "StackImg = stackImages(0.5, [[img, img_g, img_bl],\n",
    "                            [img_c, img_contours, img_b]])\n",
    "\n",
    "cv2.imshow('StackImg', StackImg)\n",
    "cv2.waitKey(0)"
   ]
  },
  {
   "cell_type": "code",
   "execution_count": null,
   "metadata": {},
   "outputs": [],
   "source": []
  }
 ],
 "metadata": {
  "kernelspec": {
   "display_name": "Python 3",
   "language": "python",
   "name": "python3"
  },
  "language_info": {
   "codemirror_mode": {
    "name": "ipython",
    "version": 3
   },
   "file_extension": ".py",
   "mimetype": "text/x-python",
   "name": "python",
   "nbconvert_exporter": "python",
   "pygments_lexer": "ipython3",
   "version": "3.7.3"
  }
 },
 "nbformat": 4,
 "nbformat_minor": 2
}
